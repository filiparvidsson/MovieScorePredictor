{
 "cells": [
  {
   "cell_type": "code",
   "execution_count": 1,
   "metadata": {},
   "outputs": [
    {
     "name": "stdout",
     "output_type": "stream",
     "text": [
      "https://www.imdb.com/search/title/?groups=top_1000&view=simple&sort=user_rating,desc&count=100&start=1&ref_=adv_nxt\n"
     ]
    },
    {
     "name": "stderr",
     "output_type": "stream",
     "text": [
      "c:\\Users\\filip\\Documents\\Projekt\\TNM018\\Projektet\\pageCollector.py:22: GuessedAtParserWarning: No parser was explicitly specified, so I'm using the best available HTML parser for this system (\"html.parser\"). This usually isn't a problem, but if you run this code on another system, or in a different virtual environment, it may use a different parser and behave differently.\n",
      "\n",
      "The code that caused this warning is on line 22 of the file c:\\Users\\filip\\Documents\\Projekt\\TNM018\\Projektet\\pageCollector.py. To get rid of this warning, pass the additional argument 'features=\"html.parser\"' to the BeautifulSoup constructor.\n",
      "\n",
      "  soup = BeautifulSoup(page)\n",
      "c:\\Users\\filip\\Documents\\Projekt\\TNM018\\Projektet\\infoCollector.py:22: GuessedAtParserWarning: No parser was explicitly specified, so I'm using the best available HTML parser for this system (\"html.parser\"). This usually isn't a problem, but if you run this code on another system, or in a different virtual environment, it may use a different parser and behave differently.\n",
      "\n",
      "The code that caused this warning is on line 22 of the file c:\\Users\\filip\\Documents\\Projekt\\TNM018\\Projektet\\infoCollector.py. To get rid of this warning, pass the additional argument 'features=\"html.parser\"' to the BeautifulSoup constructor.\n",
      "\n",
      "  soup = BeautifulSoup(page)\n"
     ]
    }
   ],
   "source": [
    "import pageCollector\n",
    "import infoCollector\n",
    "links = pageCollector.getLinks(1)\n",
    "movie_data_list = []\n",
    "for link in links:\n",
    "    movie_data_list.append(infoCollector.getData(link))\n",
    "# #     # if count % 50 == 0:\n",
    "# #     #     with open('IMDb_top_2000s.pickle', 'wb') as to_write:\n",
    "# #     #         pickle.dump(movie_data_list, to_write)\n"
   ]
  },
  {
   "cell_type": "code",
   "execution_count": 3,
   "metadata": {},
   "outputs": [
    {
     "data": {
      "text/plain": [
       "{'generall title': None,\n",
       " 'average rating': None,\n",
       " 'number of raters': None,\n",
       " 'mpaa': None,\n",
       " 'genre': None,\n",
       " 'director': None,\n",
       " 'writer': None,\n",
       " 'star': None,\n",
       " 'country': None,\n",
       " 'language': None,\n",
       " 'release date': None,\n",
       " 'budget': None,\n",
       " 'opening weekend': None,\n",
       " 'gross usa': None,\n",
       " 'gross worldwide': None,\n",
       " 'production companies': None,\n",
       " 'runtime (min)': None}"
      ]
     },
     "execution_count": 3,
     "metadata": {},
     "output_type": "execute_result"
    }
   ],
   "source": [
    "linkTemp = movie_data_list[0]\n",
    "linkTemp"
   ]
  }
 ],
 "metadata": {
  "interpreter": {
   "hash": "13eb0af71620a846e484681143862ad0a4deab6cadfc353264e5c14897c11035"
  },
  "kernelspec": {
   "display_name": "Python 3.9.9 64-bit",
   "language": "python",
   "name": "python3"
  },
  "language_info": {
   "codemirror_mode": {
    "name": "ipython",
    "version": 3
   },
   "file_extension": ".py",
   "mimetype": "text/x-python",
   "name": "python",
   "nbconvert_exporter": "python",
   "pygments_lexer": "ipython3",
   "version": "3.9.9"
  },
  "orig_nbformat": 4
 },
 "nbformat": 4,
 "nbformat_minor": 2
}
