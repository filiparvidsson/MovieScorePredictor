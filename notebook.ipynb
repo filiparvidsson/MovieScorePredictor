{
 "cells": [
  {
   "cell_type": "markdown",
   "metadata": {},
   "source": [
    "# Movie Predictor\n",
    "### This project is dedicated to the legendary action hero Steven Seagal.\n",
    "![title](steven.jpg)\n",
    "## What does it do?\n",
    "### Predict\n",
    "- Average rating of movies on IMDb\n",
    "### Using\n",
    "- Directors\n",
    "- Writers\n",
    "- Actors\n",
    "- Cinematographers\n",
    "- Composers"
   ]
  },
  {
   "cell_type": "markdown",
   "metadata": {},
   "source": [
    "### Extract the data"
   ]
  },
  {
   "cell_type": "code",
   "execution_count": 3,
   "metadata": {},
   "outputs": [],
   "source": [
    "import pandas as pd\n",
    "\n",
    "cols = [\"tconst\", \"averageRating\"]\n",
    "titleAndRating = pd.read_csv('../title.ratings.tsv', delimiter='\\t', usecols=cols)\n",
    "\n",
    "cols = [\"tconst\", \"titleType\", \"primaryTitle\"]\n",
    "titleTypeAndName = pd.read_csv('../title.basics.tsv', delimiter='\\t', usecols=cols)\n",
    "\n",
    "cols = [\"tconst\", \"nconst\", \"category\"]\n",
    "movieRoles = pd.read_csv('../title.principles.tsv', delimiter='\\t', usecols=cols)"
   ]
  },
  {
   "cell_type": "markdown",
   "metadata": {},
   "source": [
    "### Clean the data so we only have\n",
    "- Movies\n",
    "- TV Movies\n",
    "- Shorts\n",
    "\n",
    "### And we only need the\n",
    "- Directors\n",
    "- Writers\n",
    "- Actors\n",
    "- Cinematographers\n",
    "- Composers"
   ]
  },
  {
   "cell_type": "code",
   "execution_count": 6,
   "metadata": {},
   "outputs": [],
   "source": [
    "\n",
    "titleTypeAndName = titleTypeAndName.loc[(titleTypeAndName[\"titleType\"] == \"short\") | (titleTypeAndName[\"titleType\"] == \"tvMovie\") | (titleTypeAndName[\"titleType\"] == \"movie\") ]\n",
    "\n",
    "movieRoles = movieRoles.loc[(movieRoles[\"category\"] == \"self\") | (movieRoles[\"category\"] == \"actor\") | (movieRoles[\"category\"] == \"director\") | (movieRoles[\"category\"] == \"writer\") | (movieRoles[\"category\"] == \"cinematographer\") | (movieRoles[\"category\"] == \"composer\")]\n"
   ]
  },
  {
   "cell_type": "markdown",
   "metadata": {},
   "source": [
    "### Make the new dataset\n",
    "- titleType, primaryTitle, Directors, Writers, Actors, Cinematographers, Composers, rating"
   ]
  },
  {
   "cell_type": "code",
   "execution_count": null,
   "metadata": {},
   "outputs": [],
   "source": []
  }
 ],
 "metadata": {
  "interpreter": {
   "hash": "13eb0af71620a846e484681143862ad0a4deab6cadfc353264e5c14897c11035"
  },
  "kernelspec": {
   "display_name": "Python 3.9.9 64-bit",
   "language": "python",
   "name": "python3"
  },
  "language_info": {
   "codemirror_mode": {
    "name": "ipython",
    "version": 3
   },
   "file_extension": ".py",
   "mimetype": "text/x-python",
   "name": "python",
   "nbconvert_exporter": "python",
   "pygments_lexer": "ipython3",
   "version": "3.9.9"
  },
  "orig_nbformat": 4
 },
 "nbformat": 4,
 "nbformat_minor": 2
}
