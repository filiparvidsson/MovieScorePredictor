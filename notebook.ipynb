{
 "cells": [
  {
   "cell_type": "markdown",
   "metadata": {},
   "source": [
    "# Movie Predictor\n",
    "### This project was dedicated to the legendary action hero Steven Seagal.\n",
    "![title](steven.jpg)\n",
    "## What does it do?\n",
    "### Predict\n",
    "- Average rating of movies on IMDb\n",
    "### Using\n",
    "- Directors\n",
    "- Writers\n",
    "- Actors\n",
    "- Cinematographers\n",
    "- Composers"
   ]
  },
  {
   "cell_type": "markdown",
   "metadata": {},
   "source": [
    "## Extract the data"
   ]
  },
  {
   "cell_type": "code",
   "execution_count": null,
   "metadata": {},
   "outputs": [],
   "source": [
    "import pandas as pd\n",
    "\n",
    "cols = [\"tconst\", \"averageRating\"]\n",
    "titleAndRating = pd.read_csv('title.ratings.tsv', delimiter='\\t', usecols=cols)\n",
    "\n",
    "cols = [\"tconst\", \"titleType\", \"primaryTitle\"]\n",
    "titleTypeAndName = pd.read_csv('title.basics.tsv', delimiter='\\t', usecols=cols)\n",
    "\n",
    "cols = [\"tconst\", \"nconst\", \"category\"]\n",
    "movieRoles = pd.read_csv('title.principles.tsv', delimiter='\\t', usecols=cols)"
   ]
  },
  {
   "cell_type": "markdown",
   "metadata": {},
   "source": [
    "### Make the new dataset\n",
    "- tconst, titleType, primaryTitle, Directors, Writers, Actors, Cinematographers, Composers, rating"
   ]
  },
  {
   "cell_type": "code",
   "execution_count": null,
   "metadata": {},
   "outputs": [],
   "source": []
  }
 ],
 "metadata": {
  "language_info": {
   "name": "python"
  },
  "orig_nbformat": 4
 },
 "nbformat": 4,
 "nbformat_minor": 2
}
