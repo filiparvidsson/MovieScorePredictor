{
 "cells": [
  {
   "cell_type": "markdown",
   "metadata": {},
   "source": [
    "# Movie Predictor\n",
    "### This project is dedicated to the legendary action hero Steven Seagal.\n",
    "![title](steven.jpg)\n",
    "## What does it do?\n",
    "### Predict\n",
    "- Average rating of movies on IMDb\n",
    "### Using\n",
    "- Directors\n",
    "- Writers\n",
    "- Actors\n",
    "- Cinematographers\n",
    "- Composers"
   ]
  },
  {
   "cell_type": "markdown",
   "metadata": {},
   "source": [
    "### Extract the data"
   ]
  },
  {
   "cell_type": "code",
   "execution_count": 3,
   "metadata": {},
   "outputs": [],
   "source": [
    "import pandas as pd\n",
    "\n",
    "cols = [\"tconst\", \"averageRating\"]\n",
    "titleAndRating = pd.read_csv('../title.ratings.tsv', delimiter='\\t', usecols=cols)\n",
    "\n",
    "cols = [\"tconst\", \"titleType\", \"primaryTitle\"]\n",
    "titleTypeAndName = pd.read_csv('../title.basics.tsv', delimiter='\\t', usecols=cols)\n",
    "\n",
    "cols = [\"tconst\", \"nconst\", \"category\"]\n",
    "movieRoles = pd.read_csv('../title.principles.tsv', delimiter='\\t', usecols=cols)\n",
    "\n",
    "cols = [\"nconst\", \"primaryName\"]\n",
    "names = pd.read_csv('../name.basics.tsv', delimiter='\\t', usecols=cols)"
   ]
  },
  {
   "cell_type": "markdown",
   "metadata": {},
   "source": [
    "### Clean the data so we only have\n",
    "- Movies\n",
    "- TV Movies\n",
    "- Shorts\n",
    "\n",
    "### And we only need the\n",
    "- Directors\n",
    "- Writers\n",
    "- Actors\n",
    "- Cinematographers\n",
    "- Composers"
   ]
  },
  {
   "cell_type": "code",
   "execution_count": 4,
   "metadata": {},
   "outputs": [],
   "source": [
    "\n",
    "titleTypeAndName = titleTypeAndName.loc[(titleTypeAndName[\"titleType\"] == \"short\") | (titleTypeAndName[\"titleType\"] == \"tvMovie\") | (titleTypeAndName[\"titleType\"] == \"movie\") ]\n",
    "titleTypeAndName.reset_index(inplace=True,drop=True)\n",
    "movieRoles = movieRoles.loc[(movieRoles[\"category\"] == \"self\") | (movieRoles[\"category\"] == \"actor\") | (movieRoles[\"category\"] == \"actress\") | (movieRoles[\"category\"] == \"director\") | (movieRoles[\"category\"] == \"writer\") | (movieRoles[\"category\"] == \"cinematographer\") | (movieRoles[\"category\"] == \"composer\")]\n",
    "movieRoles.reset_index(inplace=True,drop=True) #Need to reset the index"
   ]
  },
  {
   "cell_type": "markdown",
   "metadata": {},
   "source": [
    "### Assign the names for convinience"
   ]
  },
  {
   "cell_type": "code",
   "execution_count": 5,
   "metadata": {},
   "outputs": [
    {
     "data": {
      "text/html": [
       "<div>\n",
       "<style scoped>\n",
       "    .dataframe tbody tr th:only-of-type {\n",
       "        vertical-align: middle;\n",
       "    }\n",
       "\n",
       "    .dataframe tbody tr th {\n",
       "        vertical-align: top;\n",
       "    }\n",
       "\n",
       "    .dataframe thead th {\n",
       "        text-align: right;\n",
       "    }\n",
       "</style>\n",
       "<table border=\"1\" class=\"dataframe\">\n",
       "  <thead>\n",
       "    <tr style=\"text-align: right;\">\n",
       "      <th></th>\n",
       "      <th>tconst</th>\n",
       "      <th>nconst</th>\n",
       "      <th>category</th>\n",
       "      <th>primaryName</th>\n",
       "    </tr>\n",
       "  </thead>\n",
       "  <tbody>\n",
       "    <tr>\n",
       "      <th>0</th>\n",
       "      <td>tt0000001</td>\n",
       "      <td>nm1588970</td>\n",
       "      <td>self</td>\n",
       "      <td>Carmencita</td>\n",
       "    </tr>\n",
       "    <tr>\n",
       "      <th>1</th>\n",
       "      <td>tt0000001</td>\n",
       "      <td>nm0005690</td>\n",
       "      <td>director</td>\n",
       "      <td>William K.L. Dickson</td>\n",
       "    </tr>\n",
       "    <tr>\n",
       "      <th>2</th>\n",
       "      <td>tt0000001</td>\n",
       "      <td>nm0374658</td>\n",
       "      <td>cinematographer</td>\n",
       "      <td>William Heise</td>\n",
       "    </tr>\n",
       "    <tr>\n",
       "      <th>3</th>\n",
       "      <td>tt0000002</td>\n",
       "      <td>nm0721526</td>\n",
       "      <td>director</td>\n",
       "      <td>Émile Reynaud</td>\n",
       "    </tr>\n",
       "    <tr>\n",
       "      <th>4</th>\n",
       "      <td>tt0000002</td>\n",
       "      <td>nm1335271</td>\n",
       "      <td>composer</td>\n",
       "      <td>Gaston Paulin</td>\n",
       "    </tr>\n",
       "    <tr>\n",
       "      <th>...</th>\n",
       "      <td>...</td>\n",
       "      <td>...</td>\n",
       "      <td>...</td>\n",
       "      <td>...</td>\n",
       "    </tr>\n",
       "    <tr>\n",
       "      <th>42219420</th>\n",
       "      <td>tt9916880</td>\n",
       "      <td>nm0286175</td>\n",
       "      <td>actor</td>\n",
       "      <td>Wayne Forester</td>\n",
       "    </tr>\n",
       "    <tr>\n",
       "      <th>42219421</th>\n",
       "      <td>tt9916880</td>\n",
       "      <td>nm10535738</td>\n",
       "      <td>actress</td>\n",
       "      <td>Eden Gamliel</td>\n",
       "    </tr>\n",
       "    <tr>\n",
       "      <th>42219422</th>\n",
       "      <td>tt9916880</td>\n",
       "      <td>nm0996406</td>\n",
       "      <td>director</td>\n",
       "      <td>Hilary Audus</td>\n",
       "    </tr>\n",
       "    <tr>\n",
       "      <th>42219423</th>\n",
       "      <td>tt9916880</td>\n",
       "      <td>nm1482639</td>\n",
       "      <td>writer</td>\n",
       "      <td>Lucinda Whiteley</td>\n",
       "    </tr>\n",
       "    <tr>\n",
       "      <th>42219424</th>\n",
       "      <td>tt9916880</td>\n",
       "      <td>nm2586970</td>\n",
       "      <td>writer</td>\n",
       "      <td>Francesca Simon</td>\n",
       "    </tr>\n",
       "  </tbody>\n",
       "</table>\n",
       "<p>42219425 rows × 4 columns</p>\n",
       "</div>"
      ],
      "text/plain": [
       "             tconst      nconst         category           primaryName\n",
       "0         tt0000001   nm1588970             self            Carmencita\n",
       "1         tt0000001   nm0005690         director  William K.L. Dickson\n",
       "2         tt0000001   nm0374658  cinematographer         William Heise\n",
       "3         tt0000002   nm0721526         director         Émile Reynaud\n",
       "4         tt0000002   nm1335271         composer         Gaston Paulin\n",
       "...             ...         ...              ...                   ...\n",
       "42219420  tt9916880   nm0286175            actor        Wayne Forester\n",
       "42219421  tt9916880  nm10535738          actress          Eden Gamliel\n",
       "42219422  tt9916880   nm0996406         director          Hilary Audus\n",
       "42219423  tt9916880   nm1482639           writer      Lucinda Whiteley\n",
       "42219424  tt9916880   nm2586970           writer       Francesca Simon\n",
       "\n",
       "[42219425 rows x 4 columns]"
      ]
     },
     "execution_count": 5,
     "metadata": {},
     "output_type": "execute_result"
    }
   ],
   "source": [
    "cols = [\"nconst\"]\n",
    "movieRoles = movieRoles.join(names.set_index(cols), on = cols)\n",
    "movieRoles"
   ]
  },
  {
   "cell_type": "markdown",
   "metadata": {},
   "source": [
    "### Separate the roles"
   ]
  },
  {
   "cell_type": "code",
   "execution_count": 6,
   "metadata": {},
   "outputs": [
    {
     "name": "stderr",
     "output_type": "stream",
     "text": [
      "C:\\Users\\filip\\AppData\\Local\\Packages\\PythonSoftwareFoundation.Python.3.9_qbz5n2kfra8p0\\LocalCache\\local-packages\\Python39\\site-packages\\pandas\\core\\frame.py:4901: SettingWithCopyWarning: \n",
      "A value is trying to be set on a copy of a slice from a DataFrame\n",
      "\n",
      "See the caveats in the documentation: https://pandas.pydata.org/pandas-docs/stable/user_guide/indexing.html#returning-a-view-versus-a-copy\n",
      "  return super().drop(\n",
      "C:\\Users\\filip\\AppData\\Local\\Packages\\PythonSoftwareFoundation.Python.3.9_qbz5n2kfra8p0\\LocalCache\\local-packages\\Python39\\site-packages\\pandas\\core\\frame.py:5034: SettingWithCopyWarning: \n",
      "A value is trying to be set on a copy of a slice from a DataFrame\n",
      "\n",
      "See the caveats in the documentation: https://pandas.pydata.org/pandas-docs/stable/user_guide/indexing.html#returning-a-view-versus-a-copy\n",
      "  return super().rename(\n"
     ]
    }
   ],
   "source": [
    "actors = movieRoles[  (movieRoles['category'] == \"actor\") | (movieRoles['category'] == \"actress\") | (movieRoles['category'] == \"self\")]\n",
    "actors.reset_index(inplace=True,drop=True)\n",
    "actors.drop([\"nconst\", \"category\"], axis=1, inplace=True)\n",
    "actors.rename(columns = {\"primaryName\":\"actors\"}, inplace=True)\n",
    "\n",
    "composers = movieRoles[  (movieRoles['category'] == \"composer\")]\n",
    "composers.reset_index(inplace=True,drop=True)\n",
    "composers.drop([\"nconst\", \"category\"], axis = 1, inplace=True)\n",
    "composers.rename(columns = {\"primaryName\":\"composers\"}, inplace=True)\n",
    "\n",
    "directors = movieRoles[  (movieRoles['category'] == \"director\")]\n",
    "directors.reset_index(inplace=True,drop=True)\n",
    "directors.drop([\"nconst\", \"category\"], axis=1, inplace=True)\n",
    "directors.rename(columns = {\"primaryName\":\"directors\"}, inplace=True)\n",
    "\n",
    "cinematographers = movieRoles[  (movieRoles['category'] == \"cinematographer\")]\n",
    "cinematographers.reset_index(inplace=True,drop=True)\n",
    "cinematographers.drop([\"nconst\", \"category\"], axis=1, inplace=True)\n",
    "cinematographers.rename(columns = {\"primaryName\":\"cinematographers\"}, inplace=True)\n",
    "\n",
    "writers = movieRoles[  (movieRoles['category'] == \"writer\")]\n",
    "writers.reset_index(inplace=True,drop=True)\n",
    "writers.drop([\"nconst\", \"category\"], axis=1, inplace=True)\n",
    "writers.rename(columns = {\"primaryName\":\"writers\"}, inplace=True)\n"
   ]
  },
  {
   "cell_type": "markdown",
   "metadata": {},
   "source": [
    "### Make the new dataset\n",
    "- titleType, primaryTitle, Directors, Writers, Actors, Cinematographers, Composers, rating"
   ]
  },
  {
   "cell_type": "code",
   "execution_count": 7,
   "metadata": {},
   "outputs": [],
   "source": [
    "movieData = pd.DataFrame(columns = ['tconst'])\n",
    "#movieData = pd.DataFrame(columns = ['tconst','titleType', 'primaryTitle', 'director', 'writer', 'actor', 'cinematographer', 'composer', 'averageRating'])\n",
    "\n",
    "movieData['tconst'] = titleTypeAndName['tconst'].copy()\n",
    "\n",
    "cols = [\"tconst\"]\n",
    "movieData = movieData.join(titleTypeAndName.set_index(cols), on = cols)\n",
    "movieData = movieData.join(titleAndRating.set_index(cols), on = cols)\n",
    "movieData = movieData.dropna( how='all', subset=['averageRating'])\n",
    "movieData.reset_index(inplace=True,drop=True)\n"
   ]
  },
  {
   "cell_type": "markdown",
   "metadata": {},
   "source": [
    "### Let's add some professions"
   ]
  },
  {
   "cell_type": "code",
   "execution_count": 18,
   "metadata": {},
   "outputs": [
    {
     "ename": "MergeError",
     "evalue": "No common columns to perform merge on. Merge options: left_on=None, right_on=None, left_index=False, right_index=False",
     "output_type": "error",
     "traceback": [
      "\u001b[1;31m---------------------------------------------------------------------------\u001b[0m",
      "\u001b[1;31mMergeError\u001b[0m                                Traceback (most recent call last)",
      "\u001b[1;32m~\\AppData\\Local\\Temp/ipykernel_14020/2399428304.py\u001b[0m in \u001b[0;36m<module>\u001b[1;34m\u001b[0m\n\u001b[0;32m      1\u001b[0m \u001b[0mmovieDataTemp\u001b[0m \u001b[1;33m=\u001b[0m \u001b[0mmovieData\u001b[0m\u001b[1;33m.\u001b[0m\u001b[0mjoin\u001b[0m\u001b[1;33m(\u001b[0m\u001b[0mdirectors\u001b[0m\u001b[1;33m.\u001b[0m\u001b[0mset_index\u001b[0m\u001b[1;33m(\u001b[0m\u001b[0mcols\u001b[0m\u001b[1;33m)\u001b[0m\u001b[1;33m,\u001b[0m \u001b[0mon\u001b[0m \u001b[1;33m=\u001b[0m \u001b[0mcols\u001b[0m\u001b[1;33m)\u001b[0m\u001b[1;33m\u001b[0m\u001b[1;33m\u001b[0m\u001b[0m\n\u001b[1;32m----> 2\u001b[1;33m \u001b[0mmovieDataTemp\u001b[0m \u001b[1;33m=\u001b[0m \u001b[0mmovieDataTemp\u001b[0m\u001b[1;33m.\u001b[0m\u001b[0mmerge\u001b[0m\u001b[1;33m(\u001b[0m\u001b[0mwriters\u001b[0m\u001b[1;33m.\u001b[0m\u001b[0mset_index\u001b[0m\u001b[1;33m(\u001b[0m\u001b[0mcols\u001b[0m\u001b[1;33m)\u001b[0m\u001b[1;33m)\u001b[0m\u001b[1;33m\u001b[0m\u001b[1;33m\u001b[0m\u001b[0m\n\u001b[0m\u001b[0;32m      3\u001b[0m \u001b[1;31m#movieDataTemp = movieDataTemp.join(actors.set_index(cols), on = cols)\u001b[0m\u001b[1;33m\u001b[0m\u001b[1;33m\u001b[0m\u001b[0m\n\u001b[0;32m      4\u001b[0m \u001b[1;31m#movieDataTemp = movieDataTemp.join(composers.set_index(cols), on = cols)\u001b[0m\u001b[1;33m\u001b[0m\u001b[1;33m\u001b[0m\u001b[0m\n\u001b[0;32m      5\u001b[0m \u001b[1;31m#movieDataTemp = movieDataTemp.join(cinematographers.set_index(cols), on = cols)\u001b[0m\u001b[1;33m\u001b[0m\u001b[1;33m\u001b[0m\u001b[0m\n",
      "\u001b[1;32m~\\AppData\\Local\\Packages\\PythonSoftwareFoundation.Python.3.9_qbz5n2kfra8p0\\LocalCache\\local-packages\\Python39\\site-packages\\pandas\\core\\frame.py\u001b[0m in \u001b[0;36mmerge\u001b[1;34m(self, right, how, on, left_on, right_on, left_index, right_index, sort, suffixes, copy, indicator, validate)\u001b[0m\n\u001b[0;32m   9184\u001b[0m         \u001b[1;32mfrom\u001b[0m \u001b[0mpandas\u001b[0m\u001b[1;33m.\u001b[0m\u001b[0mcore\u001b[0m\u001b[1;33m.\u001b[0m\u001b[0mreshape\u001b[0m\u001b[1;33m.\u001b[0m\u001b[0mmerge\u001b[0m \u001b[1;32mimport\u001b[0m \u001b[0mmerge\u001b[0m\u001b[1;33m\u001b[0m\u001b[1;33m\u001b[0m\u001b[0m\n\u001b[0;32m   9185\u001b[0m \u001b[1;33m\u001b[0m\u001b[0m\n\u001b[1;32m-> 9186\u001b[1;33m         return merge(\n\u001b[0m\u001b[0;32m   9187\u001b[0m             \u001b[0mself\u001b[0m\u001b[1;33m,\u001b[0m\u001b[1;33m\u001b[0m\u001b[1;33m\u001b[0m\u001b[0m\n\u001b[0;32m   9188\u001b[0m             \u001b[0mright\u001b[0m\u001b[1;33m,\u001b[0m\u001b[1;33m\u001b[0m\u001b[1;33m\u001b[0m\u001b[0m\n",
      "\u001b[1;32m~\\AppData\\Local\\Packages\\PythonSoftwareFoundation.Python.3.9_qbz5n2kfra8p0\\LocalCache\\local-packages\\Python39\\site-packages\\pandas\\core\\reshape\\merge.py\u001b[0m in \u001b[0;36mmerge\u001b[1;34m(left, right, how, on, left_on, right_on, left_index, right_index, sort, suffixes, copy, indicator, validate)\u001b[0m\n\u001b[0;32m    105\u001b[0m     \u001b[0mvalidate\u001b[0m\u001b[1;33m:\u001b[0m \u001b[0mstr\u001b[0m \u001b[1;33m|\u001b[0m \u001b[1;32mNone\u001b[0m \u001b[1;33m=\u001b[0m \u001b[1;32mNone\u001b[0m\u001b[1;33m,\u001b[0m\u001b[1;33m\u001b[0m\u001b[1;33m\u001b[0m\u001b[0m\n\u001b[0;32m    106\u001b[0m ) -> DataFrame:\n\u001b[1;32m--> 107\u001b[1;33m     op = _MergeOperation(\n\u001b[0m\u001b[0;32m    108\u001b[0m         \u001b[0mleft\u001b[0m\u001b[1;33m,\u001b[0m\u001b[1;33m\u001b[0m\u001b[1;33m\u001b[0m\u001b[0m\n\u001b[0;32m    109\u001b[0m         \u001b[0mright\u001b[0m\u001b[1;33m,\u001b[0m\u001b[1;33m\u001b[0m\u001b[1;33m\u001b[0m\u001b[0m\n",
      "\u001b[1;32m~\\AppData\\Local\\Packages\\PythonSoftwareFoundation.Python.3.9_qbz5n2kfra8p0\\LocalCache\\local-packages\\Python39\\site-packages\\pandas\\core\\reshape\\merge.py\u001b[0m in \u001b[0;36m__init__\u001b[1;34m(self, left, right, how, on, left_on, right_on, axis, left_index, right_index, sort, suffixes, copy, indicator, validate)\u001b[0m\n\u001b[0;32m    680\u001b[0m             \u001b[0mwarnings\u001b[0m\u001b[1;33m.\u001b[0m\u001b[0mwarn\u001b[0m\u001b[1;33m(\u001b[0m\u001b[0mmsg\u001b[0m\u001b[1;33m,\u001b[0m \u001b[0mFutureWarning\u001b[0m\u001b[1;33m,\u001b[0m \u001b[0mstacklevel\u001b[0m\u001b[1;33m=\u001b[0m\u001b[1;36m3\u001b[0m\u001b[1;33m)\u001b[0m\u001b[1;33m\u001b[0m\u001b[1;33m\u001b[0m\u001b[0m\n\u001b[0;32m    681\u001b[0m \u001b[1;33m\u001b[0m\u001b[0m\n\u001b[1;32m--> 682\u001b[1;33m         \u001b[0mself\u001b[0m\u001b[1;33m.\u001b[0m\u001b[0m_validate_specification\u001b[0m\u001b[1;33m(\u001b[0m\u001b[1;33m)\u001b[0m\u001b[1;33m\u001b[0m\u001b[1;33m\u001b[0m\u001b[0m\n\u001b[0m\u001b[0;32m    683\u001b[0m \u001b[1;33m\u001b[0m\u001b[0m\n\u001b[0;32m    684\u001b[0m         \u001b[0mcross_col\u001b[0m \u001b[1;33m=\u001b[0m \u001b[1;32mNone\u001b[0m\u001b[1;33m\u001b[0m\u001b[1;33m\u001b[0m\u001b[0m\n",
      "\u001b[1;32m~\\AppData\\Local\\Packages\\PythonSoftwareFoundation.Python.3.9_qbz5n2kfra8p0\\LocalCache\\local-packages\\Python39\\site-packages\\pandas\\core\\reshape\\merge.py\u001b[0m in \u001b[0;36m_validate_specification\u001b[1;34m(self)\u001b[0m\n\u001b[0;32m   1340\u001b[0m                 \u001b[0mcommon_cols\u001b[0m \u001b[1;33m=\u001b[0m \u001b[0mleft_cols\u001b[0m\u001b[1;33m.\u001b[0m\u001b[0mintersection\u001b[0m\u001b[1;33m(\u001b[0m\u001b[0mright_cols\u001b[0m\u001b[1;33m)\u001b[0m\u001b[1;33m\u001b[0m\u001b[1;33m\u001b[0m\u001b[0m\n\u001b[0;32m   1341\u001b[0m                 \u001b[1;32mif\u001b[0m \u001b[0mlen\u001b[0m\u001b[1;33m(\u001b[0m\u001b[0mcommon_cols\u001b[0m\u001b[1;33m)\u001b[0m \u001b[1;33m==\u001b[0m \u001b[1;36m0\u001b[0m\u001b[1;33m:\u001b[0m\u001b[1;33m\u001b[0m\u001b[1;33m\u001b[0m\u001b[0m\n\u001b[1;32m-> 1342\u001b[1;33m                     raise MergeError(\n\u001b[0m\u001b[0;32m   1343\u001b[0m                         \u001b[1;34m\"No common columns to perform merge on. \"\u001b[0m\u001b[1;33m\u001b[0m\u001b[1;33m\u001b[0m\u001b[0m\n\u001b[0;32m   1344\u001b[0m                         \u001b[1;34mf\"Merge options: left_on={self.left_on}, \"\u001b[0m\u001b[1;33m\u001b[0m\u001b[1;33m\u001b[0m\u001b[0m\n",
      "\u001b[1;31mMergeError\u001b[0m: No common columns to perform merge on. Merge options: left_on=None, right_on=None, left_index=False, right_index=False"
     ]
    }
   ],
   "source": [
    "movieDataTemp = movieData.join(directors.set_index(cols), on = cols)\n",
    "#movieDataTemp = movieDataTemp.merge(writers.set_index(cols), left_on ='directors', right_on = 'writers')\n",
    "movieDataTemp = movieDataTemp.join(actors.set_index(cols), on = cols)\n",
    "movieDataTemp = movieDataTemp.join(composers.set_index(cols), on = cols)\n",
    "movieDataTemp = movieDataTemp.join(cinematographers.set_index(cols), on = cols)\n",
    "movieDataTemp\n",
    "\n",
    "movieDataTemp.to_csv(\"movieData.tsv\", sep=\"\\t\")"
   ]
  }
 ],
 "metadata": {
  "interpreter": {
   "hash": "13eb0af71620a846e484681143862ad0a4deab6cadfc353264e5c14897c11035"
  },
  "kernelspec": {
   "display_name": "Python 3.9.9 64-bit",
   "language": "python",
   "name": "python3"
  },
  "language_info": {
   "codemirror_mode": {
    "name": "ipython",
    "version": 3
   },
   "file_extension": ".py",
   "mimetype": "text/x-python",
   "name": "python",
   "nbconvert_exporter": "python",
   "pygments_lexer": "ipython3",
   "version": "3.9.9"
  },
  "orig_nbformat": 4
 },
 "nbformat": 4,
 "nbformat_minor": 2
}
